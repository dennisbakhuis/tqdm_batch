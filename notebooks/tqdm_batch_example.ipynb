{
 "cells": [
  {
   "cell_type": "markdown",
   "id": "caa1dc0f-59fd-45ca-b67b-bcdd8ad7d3b6",
   "metadata": {},
   "source": [
    "# Batch processing using Joblib and Tqdm"
   ]
  },
  {
   "cell_type": "code",
   "execution_count": 1,
   "id": "0fdfdbae-cded-4bbc-81e5-11f902ed0b3c",
   "metadata": {},
   "outputs": [],
   "source": [
    "from math import ceil\n",
    "import random\n",
    "import datetime\n",
    "from joblib import Parallel, delayed\n",
    "\n",
    "from tqdm.auto import tqdm\n",
    "\n",
    "import numpy as np\n",
    "import pandas as pd\n",
    "\n",
    "import matplotlib.pyplot as plt\n",
    "import seaborn as sns\n",
    "\n",
    "from tqdm_batch import batch_process\n",
    "\n",
    "sns.set_context('poster')"
   ]
  },
  {
   "cell_type": "markdown",
   "id": "be3e7155-af9e-40ee-b0e2-5d2c3bc354fe",
   "metadata": {},
   "source": [
    "Simple batch processing function"
   ]
  },
  {
   "cell_type": "code",
   "execution_count": 2,
   "id": "92bc363d-1bfc-4606-baec-1ef9bcbcd601",
   "metadata": {},
   "outputs": [],
   "source": [
    "def batch_process_function(row, order, payload):\n",
    "    \"\"\"\n",
    "    Simulate process function\n",
    "    \n",
    "    Row and payload are ignored.\n",
    "    \n",
    "    Approximate pi\n",
    "    \"\"\"\n",
    "    k, pi = 1, 0\n",
    "    for i in range(10**6):\n",
    "        if i % 2 == 0: # even\n",
    "            pi += 4 / k\n",
    "        else:  # odd \n",
    "            pi -= 4 / k \n",
    "        k += 2\n",
    "    return pi"
   ]
  },
  {
   "cell_type": "markdown",
   "id": "da6277d8-7093-4010-9866-2dbdcb8568fe",
   "metadata": {},
   "source": [
    "This function just calculates Pi:"
   ]
  },
  {
   "cell_type": "code",
   "execution_count": 3,
   "id": "a05dbf0e-f28c-4859-9374-16eec6d5958e",
   "metadata": {},
   "outputs": [
    {
     "data": {
      "text/plain": [
       "3.1415916535897743"
      ]
     },
     "execution_count": 3,
     "metadata": {},
     "output_type": "execute_result"
    }
   ],
   "source": [
    "batch_process_function('x', 6, None)"
   ]
  },
  {
   "cell_type": "markdown",
   "id": "fc3bf7d5-4dd3-4885-8f4b-e0026821f752",
   "metadata": {},
   "source": [
    "Lets have some demo settings:"
   ]
  },
  {
   "cell_type": "code",
   "execution_count": 4,
   "id": "28cc0946-7528-42b5-8e5a-2884f1495cc4",
   "metadata": {},
   "outputs": [],
   "source": [
    "order=6\n",
    "N = 1_000\n",
    "items = range(N)"
   ]
  },
  {
   "cell_type": "markdown",
   "id": "d24cb841-77e1-461a-b26f-311003913e51",
   "metadata": {},
   "source": [
    "Process serially:"
   ]
  },
  {
   "cell_type": "code",
   "execution_count": null,
   "id": "01ff0f46-849c-48bf-853d-e08bc0a0af42",
   "metadata": {},
   "outputs": [],
   "source": [
    "%%time\n",
    "result = [batch_process_function(row, order, None) for row in items]"
   ]
  },
  {
   "cell_type": "code",
   "execution_count": null,
   "id": "904ac6ab-fb3f-4d9d-a142-dd293ff62fdd",
   "metadata": {},
   "outputs": [],
   "source": [
    "%%time\n",
    "result = Parallel(n_jobs=8)(\n",
    "    delayed(batch_process_function)\n",
    "    (row, order, None) \n",
    "    for row in tqdm(items)\n",
    ")"
   ]
  },
  {
   "cell_type": "markdown",
   "id": "28cc9a7f-1eb1-4bfd-ac4c-58ae7674f70e",
   "metadata": {},
   "source": [
    "Serialization can increase the overhead such that it takes much longer than in a serial fashion:"
   ]
  },
  {
   "cell_type": "code",
   "execution_count": null,
   "id": "f31b3b88-b5a9-49a1-b392-c9eabeb5030e",
   "metadata": {},
   "outputs": [],
   "source": [
    "matrix = np.random.normal(size=(500, 500, 100))"
   ]
  },
  {
   "cell_type": "code",
   "execution_count": null,
   "id": "0527b6e7-524c-4d10-9606-0bf2cf7a7ae6",
   "metadata": {},
   "outputs": [],
   "source": [
    "%%time\n",
    "result = Parallel(n_jobs=8)(\n",
    "    delayed(batch_process_function)\n",
    "    (row, order, matrix) \n",
    "    for row in tqdm(items)\n",
    ")"
   ]
  },
  {
   "cell_type": "markdown",
   "id": "0dfe2973-87c6-4f42-814c-2dcae9614e9c",
   "metadata": {},
   "source": [
    "But working in batches, minimizing IO can bring us back on track:"
   ]
  },
  {
   "cell_type": "code",
   "execution_count": null,
   "id": "78d4a3db-67c7-4737-b7a0-38e8fba926d9",
   "metadata": {},
   "outputs": [],
   "source": [
    "%%time\n",
    "\n",
    "n_workers = 8\n",
    "\n",
    "# Create a batch function\n",
    "def proc_batch(batch, order, matrix):\n",
    "    return [\n",
    "        batch_process_function(row, order, matrix)\n",
    "        for row in batch\n",
    "    ]\n",
    "\n",
    "# Divide data in batches\n",
    "batch_size = ceil(len(items) / n_workers)\n",
    "batches = [\n",
    "    items[ix:ix+batch_size]\n",
    "    for ix in range(0, len(items), batch_size)\n",
    "]\n",
    "\n",
    "# divide the work\n",
    "result = Parallel(n_jobs=8)(\n",
    "    delayed(proc_batch)\n",
    "    (batch, order, matrix) \n",
    "    for batch in tqdm(batches)\n",
    ")"
   ]
  },
  {
   "cell_type": "markdown",
   "id": "ef284343-f7ab-4cac-8ff8-533d46c34d3b",
   "metadata": {},
   "source": [
    "This is all wrapped into the tqdm_batch package:"
   ]
  },
  {
   "cell_type": "code",
   "execution_count": null,
   "id": "ff07a6c7-78d0-4f2d-babf-27044b78fb9f",
   "metadata": {},
   "outputs": [],
   "source": [
    "result = batch_process(\n",
    "    items,\n",
    "    batch_process_function,\n",
    "    order=6,\n",
    "    n_workers=6,\n",
    "    payload=matrix,\n",
    "    sep_progress=True,\n",
    ")"
   ]
  },
  {
   "cell_type": "code",
   "execution_count": null,
   "id": "c1ec3ea0-788c-4cdb-b88f-d97cad497058",
   "metadata": {},
   "outputs": [],
   "source": []
  },
  {
   "cell_type": "code",
   "execution_count": null,
   "id": "16436a51-5cd0-4a39-98b4-310eb87af29b",
   "metadata": {},
   "outputs": [],
   "source": []
  },
  {
   "cell_type": "markdown",
   "id": "ce32f468-6353-4b9f-addd-b3ef80e7bc88",
   "metadata": {},
   "source": [
    "## How many CPUs are optimal?"
   ]
  },
  {
   "cell_type": "code",
   "execution_count": 5,
   "id": "2ec518bc-9e8b-4e31-9648-9404560606dc",
   "metadata": {},
   "outputs": [
    {
     "data": {
      "application/vnd.jupyter.widget-view+json": {
       "model_id": "4b530caa96b0426384b71cf9f7d5b4d2",
       "version_major": 2,
       "version_minor": 0
      },
      "text/plain": [
       "  0%|          | 0/1000 [00:00<?, ?it/s]"
      ]
     },
     "metadata": {},
     "output_type": "display_data"
    },
    {
     "data": {
      "application/vnd.jupyter.widget-view+json": {
       "model_id": "ec9aee13306e485d9f8731c311d8ed6d",
       "version_major": 2,
       "version_minor": 0
      },
      "text/plain": [
       "  0%|          | 0/1000 [00:00<?, ?it/s]"
      ]
     },
     "metadata": {},
     "output_type": "display_data"
    },
    {
     "data": {
      "application/vnd.jupyter.widget-view+json": {
       "model_id": "de480db54f7a43ee8eff99de7fba48fc",
       "version_major": 2,
       "version_minor": 0
      },
      "text/plain": [
       "  0%|          | 0/1000 [00:00<?, ?it/s]"
      ]
     },
     "metadata": {},
     "output_type": "display_data"
    },
    {
     "data": {
      "application/vnd.jupyter.widget-view+json": {
       "model_id": "28c265f2cb3949e9aff69fad38ac813a",
       "version_major": 2,
       "version_minor": 0
      },
      "text/plain": [
       "  0%|          | 0/1000 [00:00<?, ?it/s]"
      ]
     },
     "metadata": {},
     "output_type": "display_data"
    },
    {
     "data": {
      "application/vnd.jupyter.widget-view+json": {
       "model_id": "5d7f4fb23dc743dc8e7a2ec1d498a932",
       "version_major": 2,
       "version_minor": 0
      },
      "text/plain": [
       "  0%|          | 0/1000 [00:00<?, ?it/s]"
      ]
     },
     "metadata": {},
     "output_type": "display_data"
    },
    {
     "data": {
      "application/vnd.jupyter.widget-view+json": {
       "model_id": "7acd7bce06ba41519fe140c489cd0874",
       "version_major": 2,
       "version_minor": 0
      },
      "text/plain": [
       "  0%|          | 0/1000 [00:00<?, ?it/s]"
      ]
     },
     "metadata": {},
     "output_type": "display_data"
    },
    {
     "data": {
      "application/vnd.jupyter.widget-view+json": {
       "model_id": "80fc806b03d44c4099e0994182fc4c65",
       "version_major": 2,
       "version_minor": 0
      },
      "text/plain": [
       "  0%|          | 0/1000 [00:00<?, ?it/s]"
      ]
     },
     "metadata": {},
     "output_type": "display_data"
    },
    {
     "data": {
      "application/vnd.jupyter.widget-view+json": {
       "model_id": "3d40aeca25f247b99b3df3e2726d0234",
       "version_major": 2,
       "version_minor": 0
      },
      "text/plain": [
       "  0%|          | 0/1000 [00:00<?, ?it/s]"
      ]
     },
     "metadata": {},
     "output_type": "display_data"
    },
    {
     "data": {
      "application/vnd.jupyter.widget-view+json": {
       "model_id": "d15d2aa91fe04b60b00b360e5cde5314",
       "version_major": 2,
       "version_minor": 0
      },
      "text/plain": [
       "  0%|          | 0/1000 [00:00<?, ?it/s]"
      ]
     },
     "metadata": {},
     "output_type": "display_data"
    },
    {
     "data": {
      "application/vnd.jupyter.widget-view+json": {
       "model_id": "21ed3cb9b7c94ce9aab4d76bded63b2b",
       "version_major": 2,
       "version_minor": 0
      },
      "text/plain": [
       "  0%|          | 0/1000 [00:00<?, ?it/s]"
      ]
     },
     "metadata": {},
     "output_type": "display_data"
    },
    {
     "data": {
      "application/vnd.jupyter.widget-view+json": {
       "model_id": "18f769b0eb604b56af927f76aa0a208b",
       "version_major": 2,
       "version_minor": 0
      },
      "text/plain": [
       "  0%|          | 0/1000 [00:00<?, ?it/s]"
      ]
     },
     "metadata": {},
     "output_type": "display_data"
    },
    {
     "data": {
      "application/vnd.jupyter.widget-view+json": {
       "model_id": "e8750d7115c641b491540aa439f38792",
       "version_major": 2,
       "version_minor": 0
      },
      "text/plain": [
       "  0%|          | 0/1000 [00:00<?, ?it/s]"
      ]
     },
     "metadata": {},
     "output_type": "display_data"
    },
    {
     "name": "stdout",
     "output_type": "stream",
     "text": [
      "CPU times: user 1min 42s, sys: 877 ms, total: 1min 43s\n",
      "Wall time: 7min 14s\n"
     ]
    }
   ],
   "source": [
    "%%time\n",
    "result = []\n",
    "for n_workers in range(1, 13):\n",
    "    start = datetime.datetime.now()\n",
    "    _ = batch_process(\n",
    "        items,\n",
    "        batch_process_function,\n",
    "        order=6,\n",
    "        n_workers=n_workers,\n",
    "        payload=None,\n",
    "        sep_progress=False,\n",
    "    )\n",
    "    dt = datetime.datetime.now() - start\n",
    "    result.append({'workers': n_workers, 'time':dt})\n",
    "    "
   ]
  },
  {
   "cell_type": "code",
   "execution_count": 6,
   "id": "ee7f4fae-b208-470a-9fc8-5a6e4f45a6f8",
   "metadata": {},
   "outputs": [],
   "source": [
    "df = pd.DataFrame(result)\n",
    "df['dt'] = df.time.dt.total_seconds()"
   ]
  },
  {
   "cell_type": "code",
   "execution_count": 7,
   "id": "0b12acbc-3a83-4729-b0e9-cc700bdd3ddd",
   "metadata": {},
   "outputs": [
    {
     "data": {
      "image/png": "[encoded data removed]",
      "text/plain": [
       "<Figure size 864x576 with 1 Axes>"
      ]
     },
     "metadata": {
      "needs_background": "light"
     },
     "output_type": "display_data"
    }
   ],
   "source": [
    "fig, ax = plt.subplots(figsize=(12, 8))\n",
    "sns.lineplot(x='workers', y='dt', data=df, ax=ax)\n",
    "ax.plot([1, 12], [df.dt.min(), df.dt.min()], 'k--')\n",
    "_ = ax.set_ylabel('time [s]')\n",
    "sns.despine()"
   ]
  },
  {
   "cell_type": "code",
   "execution_count": 8,
   "id": "a616b986-2251-46ae-86aa-fec341361e92",
   "metadata": {},
   "outputs": [],
   "source": [
    "fig.savefig('../assets/optimal_cpu.png', bbox_inches='tight')"
   ]
  },
  {
   "cell_type": "code",
   "execution_count": null,
   "id": "1fa6fbf5-7c86-482d-b448-845a1927add9",
   "metadata": {},
   "outputs": [],
   "source": []
  },
  {
   "cell_type": "code",
   "execution_count": null,
   "id": "1d9ba8ad-9b07-45cf-aa5b-a9989fd9ed80",
   "metadata": {},
   "outputs": [],
   "source": []
  },
  {
   "cell_type": "code",
   "execution_count": null,
   "id": "232e6cf6-ac2a-438d-8741-9b71fe28cb71",
   "metadata": {},
   "outputs": [],
   "source": []
  }
 ],
 "metadata": {
  "kernelspec": {
   "display_name": "Python 3 (ipykernel)",
   "language": "python",
   "name": "python3"
  },
  "language_info": {
   "codemirror_mode": {
    "name": "ipython",
    "version": 3
   },
   "file_extension": ".py",
   "mimetype": "text/x-python",
   "name": "python",
   "nbconvert_exporter": "python",
   "pygments_lexer": "ipython3",
   "version": "3.10.0"
  }
 },
 "nbformat": 4,
 "nbformat_minor": 5
}
